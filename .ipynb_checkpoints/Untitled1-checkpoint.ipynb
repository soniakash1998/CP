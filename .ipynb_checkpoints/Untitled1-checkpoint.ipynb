{
 "cells": [
  {
   "cell_type": "code",
   "execution_count": 24,
   "metadata": {},
   "outputs": [],
   "source": [
    "from selenium import webdriver\n",
    "import time\n",
    "import urllib.request\n",
    "import os\n",
    "from selenium.webdriver.common.keys import Keys"
   ]
  },
  {
   "cell_type": "code",
   "execution_count": 25,
   "metadata": {},
   "outputs": [],
   "source": [
    "browser = webdriver.Chrome('/home/akash/Downloads/chromedriver_linux64/chromedriver')"
   ]
  },
  {
   "cell_type": "code",
   "execution_count": 55,
   "metadata": {},
   "outputs": [],
   "source": [
    "def Download_images(img_keyword):\n",
    "    \n",
    "    browser.get('https://www.google.com/')\n",
    "    search = browser.find_element_by_name('q')\n",
    "    keyword = img_keyword\n",
    "    search.send_keys(keyword,Keys.ENTER)\n",
    "    elem = browser.find_element_by_link_text('Images')\n",
    "    elem.get_attribute('href')\n",
    "    elem.click()\n",
    "    value = 0\n",
    "    for i in range(20):\n",
    "       browser.execute_script(\"scrollBy(\"+ str(value) +\",+1000);\")\n",
    "       value += 1000\n",
    "\n",
    "    elem1 = browser.find_element_by_id('islmp')\n",
    "    sub = elem1.find_elements_by_tag_name(\"img\")\n",
    "    try:\n",
    "        os.mkdir('downloads')\n",
    "    except FileExistsError:\n",
    "        pass\n",
    "\n",
    "\n",
    "    count = 0\n",
    "    for i in sub:\n",
    "        src = i.get_attribute('src')\n",
    "        try:\n",
    "            if src != None:\n",
    "                src  = str(src)\n",
    "                print(src)\n",
    "                count+=1\n",
    "                urllib.request.urlretrieve(src, os.path.join('downloads',keyword+str(count)+'.jpg'))\n",
    "                if(count == 2):\n",
    "                    break\n",
    "            else:\n",
    "                raise TypeError\n",
    "        except TypeError:\n",
    "            print('fail')"
   ]
  },
  {
   "cell_type": "code",
   "execution_count": 111,
   "metadata": {},
   "outputs": [],
   "source": [
    "import pandas as pd\n",
    "import numpy as np"
   ]
  },
  {
   "cell_type": "code",
   "execution_count": 112,
   "metadata": {},
   "outputs": [],
   "source": [
    "file_name = '/home/akash/CP/Inventory_Report.xlsx'\n",
    "cols = [0]\n",
    "names_itmes = pd.read_excel(file_name, sheet_name=None, usecols = cols, index=False)"
   ]
  }
 ],
 "metadata": {
  "kernelspec": {
   "display_name": "Python 3",
   "language": "python",
   "name": "python3"
  },
  "language_info": {
   "codemirror_mode": {
    "name": "ipython",
    "version": 3
   },
   "file_extension": ".py",
   "mimetype": "text/x-python",
   "name": "python",
   "nbconvert_exporter": "python",
   "pygments_lexer": "ipython3",
   "version": "3.6.9"
  }
 },
 "nbformat": 4,
 "nbformat_minor": 2
}
